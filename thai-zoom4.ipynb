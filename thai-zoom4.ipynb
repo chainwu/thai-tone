{
 "cells": [
  {
   "cell_type": "code",
   "execution_count": 1,
   "metadata": {},
   "outputs": [
    {
     "name": "stdout",
     "output_type": "stream",
     "text": [
      "        tmin     tier      text     tmax\n",
      "row                                     \n",
      "1     52.601  IU/tone        51   53.022\n",
      "2     52.601  EU/tone        51   53.022\n",
      "3     52.601     word         看   53.022\n",
      "4     53.022  IU/tone      2155   53.751\n",
      "5     53.022  EU/tone      2155   53.751\n",
      "6     53.022     word        老師   53.751\n",
      "7     54.845  EU/tone    512135   56.052\n",
      "8     54.845     word       閉起來   56.052\n",
      "9     54.845  IU/tone    512135   56.052\n",
      "10    61.272     word     一人一分?   62.282\n",
      "11    61.272  EU/tone  51352155   62.282\n",
      "12    61.272  IU/tone  51355155   62.282\n",
      "13   100.896     word        影子  102.143\n",
      "14   100.896  EU/tone        21  102.143\n",
      "15   100.896  IU/tone        21  102.143\n",
      "16   103.352  EU/tone        21  104.292\n",
      "17   103.352  IU/tone        21  104.292\n",
      "18   103.352     word        影子  104.292\n",
      "19   115.338  EU/tone        35  116.604\n",
      "20   115.338  IU/tone        35  116.604\n",
      "21   115.338     word        瓶子  116.604\n",
      "22   117.861  EU/tone        35  118.868\n",
      "23   117.861     word       瓶子*  118.868\n",
      "24   117.861  IU/tone        35  118.868\n",
      "25   122.811     word         喝  123.617\n",
      "26   122.811  IU/tone        55  123.617\n",
      "27   122.811  EU/tone        55  123.617\n",
      "28   123.617  EU/tone        21  124.519\n",
      "29   123.617     word         水  124.519\n",
      "30   123.617  IU/tone        21  124.519\n",
      "..       ...      ...       ...      ...\n",
      "66   184.973  EU/tone      5535  186.565\n",
      "67   184.973  IU/tone      5535  186.565\n",
      "68   184.973     word        衣服  186.565\n",
      "69   187.803  EU/tone      5551  188.897\n",
      "70   187.803  IU/tone      5551  188.897\n",
      "71   187.803     word        黑色  188.897\n",
      "73   189.146     word        衣服  190.182\n",
      "74   189.146  EU/tone      5535  190.182\n",
      "75   189.146  IU/tone      5535  190.182\n",
      "77   211.701  EU/tone    555151  213.571\n",
      "78   211.701  IU/tone    555151  213.571\n",
      "79   211.701     word       溫度計  213.571\n",
      "80   215.413  EU/tone    555151  217.341\n",
      "81   215.413     word       溫度計  217.341\n",
      "82   215.413  IU/tone    555151  217.341\n",
      "83   220.219     word       溫度計  222.013\n",
      "84   220.219  EU/tone    555551  222.013\n",
      "85   220.219  IU/tone    555151  222.013\n",
      "86   236.283  IU/tone    513551  237.281\n",
      "87   236.283     word       不一樣  237.281\n",
      "88   236.283  EU/tone    512151  237.281\n",
      "89   262.509  IU/tone        21  263.881\n",
      "90   262.509  EU/tone        21  263.881\n",
      "91   262.509     word        好了  263.881\n",
      "92   271.693  EU/tone        35  272.547\n",
      "93   271.693     word         排  272.547\n",
      "94   271.693  IU/tone        35  272.547\n",
      "95   290.140     word        老師  291.060\n",
      "96   290.140  IU/tone      2155  291.060\n",
      "97   290.140  EU/tone      3555  291.060\n",
      "\n",
      "[93 rows x 4 columns]\n"
     ]
    }
   ],
   "source": [
    "import pandas as pd\n",
    "\n",
    "df = pd.read_csv(r\"C:\\Users\\IEC010240\\Desktop\\Thai_Tone\\ZOOM0004.txt\", encoding=\"UTF-8\", sep=\"\\t\", header=0, index_col=0)\n",
    "#df['tmin'] = df['tmin'].str.replace(\" \", \"\")\n",
    "#df['tmax'] = df['tmax'].str.replace(\" \", \"\")\n",
    "df['tier'] = df['tier'].str.replace(\" \", \"\")\n",
    "df['text'] = df['text'].str.replace(\" \", \"\")\n",
    "print(df)"
   ]
  },
  {
   "cell_type": "code",
   "execution_count": 2,
   "metadata": {
    "scrolled": true
   },
   "outputs": [
    {
     "name": "stdout",
     "output_type": "stream",
     "text": [
      "       tmin     tmax   word      IU/tone      EU/tone\n",
      "0    52.601   53.022      看           51           51\n",
      "1    53.022   53.751     老師        21 55        21 55\n",
      "2    54.845   56.052    閉起來     51 21 35     51 21 35\n",
      "3    61.272   62.282  一人一分?  51 35 51 55  51 35 21 55\n",
      "4   100.896  102.143     影子           21           21\n",
      "5   103.352  104.292     影子           21           21\n",
      "6   115.338  116.604     瓶子           35           35\n",
      "7   117.861  118.868    瓶子*           35           35\n",
      "8   122.811  123.617      喝           55           55\n",
      "9   123.617  124.519      水           21           21\n",
      "10  125.276  126.197     喝水        55 21        55 21\n",
      "11  137.019  137.950     白色        35 51        21 51\n",
      "12  143.873  144.890     黑色        55 51        51 51\n",
      "13  145.494  146.444     黑色        55 51        21 51\n",
      "14  146.655  147.825   黑*色*        55 51        51 51\n",
      "15  150.933  151.653    黑*色        55 51        55 51\n",
      "16  154.886  155.663     白色        35 51        35 51\n",
      "17  158.608  159.788     黑色        55 51        55 51\n",
      "18  159.788  160.939     黑色        55 51        55 51\n",
      "19  162.015  163.175     黑色        55 51        55 51\n",
      "20  183.620  184.503     白色        35 51        35 51\n",
      "21  184.973  186.565     衣服        55 35        55 35\n",
      "22  187.803  188.897     黑色        55 51        55 51\n",
      "23  189.146  190.182     衣服        55 35        55 35\n",
      "24  211.701  213.571    溫度計     55 51 51     55 51 51\n",
      "25  215.413  217.341    溫度計     55 51 51     55 51 51\n",
      "26  220.219  222.013    溫度計     55 51 51     55 55 51\n",
      "27  236.283  237.281    不一樣     51 35 51     51 21 51\n",
      "28  262.509  263.881     好了           21           21\n",
      "29  271.693  272.547      排           35           35\n",
      "30  290.140  291.060     老師        21 55        35 55\n"
     ]
    }
   ],
   "source": [
    "column=['tmin','tmax','word','IU/tone','EU/tone']\n",
    "newdf = pd.DataFrame(columns = column)\n",
    "#print(newdf)\n",
    "#print(int(df.shape[0]-1 / 3))\n",
    "\n",
    "for i in range(df.shape[0]):\n",
    "    tmin = df.iloc[i].tmin\n",
    "    tmax = df.iloc[i].tmax\n",
    "    r = newdf.loc[(newdf['tmax'] == tmax) & (newdf['tmin'] == tmin)]\n",
    "    #print(r)\n",
    "    if r.empty:\n",
    "        s = pd.Series({'tmin':tmin, 'tmax':tmax})\n",
    "        # 这里 Series 必须是 dict-like 类型\n",
    "        newdf = newdf.append(s, ignore_index=True)    \n",
    "\n",
    "for idxbase in range(df.shape[0]):\n",
    "    tmin = df.iloc[idxbase].tmin\n",
    "    tmax = df.iloc[idxbase].tmax\n",
    "\n",
    "    if df.iloc[idxbase].tier =='word':\n",
    "        word = df.iloc[idxbase].text\n",
    "        newdf.loc[(newdf.tmax == tmax) & (newdf.tmin == tmin), 'word'] = word\n",
    "    elif df.iloc[idxbase].tier =='IU/tone':\n",
    "        if len(df.iloc[idxbase].text) <= 2 :\n",
    "            iu = df.iloc[idxbase].text\n",
    "        else:\n",
    "            s = df.iloc[idxbase].text\n",
    "            iu = \" \".join(s[k:k+2] for k in range(0, len(s), 2))\n",
    "        newdf.loc[(newdf.tmax == tmax) & (newdf.tmin == tmin), 'IU/tone'] = iu\n",
    "    elif df.iloc[idxbase].tier =='EU/tone':\n",
    "        #print(\"EU/tone\", df.iloc[idxbase].tier)\n",
    "        if len(df.iloc[idxbase].text) <= 2 :\n",
    "            eu = df.iloc[idxbase].text\n",
    "        else:\n",
    "            s = df.iloc[idxbase].text\n",
    "            eu = \" \".join(s[k:k+2] for k in range(0, len(s), 2))\n",
    "        newdf.loc[(newdf.tmax == tmax) & (newdf.tmin == tmin), 'EU/tone'] = eu\n",
    "\n",
    "pd.set_option('display.width', 1000)\n",
    "newdf.style.set_properties(**{'text-align': 'right'})\n",
    "print(newdf)"
   ]
  },
  {
   "cell_type": "code",
   "execution_count": 3,
   "metadata": {
    "scrolled": true
   },
   "outputs": [
    {
     "data": {
      "text/plain": [
       "IU/tone      EU/tone    \n",
       "21           21             4\n",
       "21 55        21 55          1\n",
       "             35 55          1\n",
       "35           35             3\n",
       "35 51        21 51          1\n",
       "             35 51          2\n",
       "51           51             1\n",
       "51 21 35     51 21 35       1\n",
       "51 35 51     51 21 51       1\n",
       "51 35 51 55  51 35 21 55    1\n",
       "55           55             1\n",
       "55 21        55 21          1\n",
       "55 35        55 35          2\n",
       "55 51        21 51          1\n",
       "             51 51          2\n",
       "             55 51          5\n",
       "55 51 51     55 51 51       2\n",
       "             55 55 51       1\n",
       "dtype: int64"
      ]
     },
     "execution_count": 3,
     "metadata": {},
     "output_type": "execute_result"
    }
   ],
   "source": [
    "newdf.groupby([\"IU/tone\", \"EU/tone\"]).size()\n",
    "\n"
   ]
  },
  {
   "cell_type": "code",
   "execution_count": null,
   "metadata": {},
   "outputs": [],
   "source": []
  }
 ],
 "metadata": {
  "kernelspec": {
   "display_name": "Python 3",
   "language": "python",
   "name": "python3"
  },
  "language_info": {
   "codemirror_mode": {
    "name": "ipython",
    "version": 3
   },
   "file_extension": ".py",
   "mimetype": "text/x-python",
   "name": "python",
   "nbconvert_exporter": "python",
   "pygments_lexer": "ipython3",
   "version": "3.7.3"
  }
 },
 "nbformat": 4,
 "nbformat_minor": 2
}
